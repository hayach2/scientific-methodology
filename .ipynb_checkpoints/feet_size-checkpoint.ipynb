{
 "cells": [
  {
   "cell_type": "markdown",
   "id": "5f96ffc8",
   "metadata": {},
   "source": [
    "# Getting the (wrong) picture from the data – Correlation, causality"
   ]
  },
  {
   "cell_type": "code",
   "execution_count": 1,
   "id": "ee27a946",
   "metadata": {},
   "outputs": [],
   "source": [
    "import pandas as pd\n",
    "import matplotlib.pyplot as plt\n",
    "from sklearn.linear_model import LinearRegression\n",
    "import numpy as np"
   ]
  },
  {
   "cell_type": "code",
   "execution_count": 2,
   "id": "e6e22147",
   "metadata": {},
   "outputs": [],
   "source": [
    "feet_size = pd.read_csv(\"foot_size_data.csv\")"
   ]
  },
  {
   "cell_type": "code",
   "execution_count": 3,
   "id": "8635fbf3",
   "metadata": {},
   "outputs": [],
   "source": [
    "x = feet_size['feet_size']\n",
    "y = feet_size['nb_mistakes']"
   ]
  },
  {
   "cell_type": "code",
   "execution_count": 4,
   "id": "da5789dc",
   "metadata": {},
   "outputs": [
    {
     "data": {
      "text/html": [
       "<div>\n",
       "<style scoped>\n",
       "    .dataframe tbody tr th:only-of-type {\n",
       "        vertical-align: middle;\n",
       "    }\n",
       "\n",
       "    .dataframe tbody tr th {\n",
       "        vertical-align: top;\n",
       "    }\n",
       "\n",
       "    .dataframe thead th {\n",
       "        text-align: right;\n",
       "    }\n",
       "</style>\n",
       "<table border=\"1\" class=\"dataframe\">\n",
       "  <thead>\n",
       "    <tr style=\"text-align: right;\">\n",
       "      <th></th>\n",
       "      <th>feet_size</th>\n",
       "      <th>nb_mistakes</th>\n",
       "    </tr>\n",
       "  </thead>\n",
       "  <tbody>\n",
       "    <tr>\n",
       "      <th>0</th>\n",
       "      <td>17.5</td>\n",
       "      <td>15</td>\n",
       "    </tr>\n",
       "    <tr>\n",
       "      <th>1</th>\n",
       "      <td>17.5</td>\n",
       "      <td>18</td>\n",
       "    </tr>\n",
       "    <tr>\n",
       "      <th>2</th>\n",
       "      <td>17.5</td>\n",
       "      <td>19</td>\n",
       "    </tr>\n",
       "    <tr>\n",
       "      <th>3</th>\n",
       "      <td>17.5</td>\n",
       "      <td>20</td>\n",
       "    </tr>\n",
       "    <tr>\n",
       "      <th>4</th>\n",
       "      <td>18.0</td>\n",
       "      <td>16</td>\n",
       "    </tr>\n",
       "    <tr>\n",
       "      <th>...</th>\n",
       "      <td>...</td>\n",
       "      <td>...</td>\n",
       "    </tr>\n",
       "    <tr>\n",
       "      <th>63</th>\n",
       "      <td>28.5</td>\n",
       "      <td>0</td>\n",
       "    </tr>\n",
       "    <tr>\n",
       "      <th>64</th>\n",
       "      <td>28.5</td>\n",
       "      <td>2</td>\n",
       "    </tr>\n",
       "    <tr>\n",
       "      <th>65</th>\n",
       "      <td>29.0</td>\n",
       "      <td>0</td>\n",
       "    </tr>\n",
       "    <tr>\n",
       "      <th>66</th>\n",
       "      <td>29.0</td>\n",
       "      <td>1</td>\n",
       "    </tr>\n",
       "    <tr>\n",
       "      <th>67</th>\n",
       "      <td>29.0</td>\n",
       "      <td>2</td>\n",
       "    </tr>\n",
       "  </tbody>\n",
       "</table>\n",
       "<p>68 rows × 2 columns</p>\n",
       "</div>"
      ],
      "text/plain": [
       "    feet_size  nb_mistakes\n",
       "0        17.5           15\n",
       "1        17.5           18\n",
       "2        17.5           19\n",
       "3        17.5           20\n",
       "4        18.0           16\n",
       "..        ...          ...\n",
       "63       28.5            0\n",
       "64       28.5            2\n",
       "65       29.0            0\n",
       "66       29.0            1\n",
       "67       29.0            2\n",
       "\n",
       "[68 rows x 2 columns]"
      ]
     },
     "execution_count": 4,
     "metadata": {},
     "output_type": "execute_result"
    }
   ],
   "source": [
    "feet_size"
   ]
  },
  {
   "cell_type": "markdown",
   "id": "1693cfd3",
   "metadata": {},
   "source": [
    "## Propose a graph to represent the above data\n",
    "I propose a histogram, because it's easier to observe the data"
   ]
  },
  {
   "cell_type": "code",
   "execution_count": 5,
   "id": "5463ebef",
   "metadata": {},
   "outputs": [
    {
     "data": {
      "image/png": "[encoded data removed]",
      "text/plain": [
       "<Figure size 432x288 with 1 Axes>"
      ]
     },
     "metadata": {
      "needs_background": "light"
     },
     "output_type": "display_data"
    }
   ],
   "source": [
    "plt.xlabel('Feet Size')\n",
    "plt.ylabel('Errors')\n",
    "\n",
    "plt.bar(x, y, linewidth=2.0)\n",
    "plt.show()"
   ]
  },
  {
   "cell_type": "markdown",
   "id": "47698591",
   "metadata": {},
   "source": [
    "The histogram shows that the bigger the feet size the less mistakes."
   ]
  },
  {
   "cell_type": "markdown",
   "id": "ea720c2d",
   "metadata": {},
   "source": [
    "I'll run the data on linear regression. Why? Because simple linear regression describes the relationship between an independent variable x and a dependent variable y in terms of this linear function:\n",
    "\n",
    "<b> y = slope * x + intercept + noise </b>"
   ]
  },
  {
   "cell_type": "code",
   "execution_count": 6,
   "id": "0368e146",
   "metadata": {},
   "outputs": [
    {
     "name": "stdout",
     "output_type": "stream",
     "text": [
      "Coef: [-1.50903304], Intercept: 44.2137609646755\n"
     ]
    }
   ],
   "source": [
    "x = np.array(x).reshape((-1, 1))\n",
    "y = np.array(y)\n",
    "\n",
    "reg = LinearRegression().fit(x,y)\n",
    "\n",
    "\n",
    "coef = reg.coef_\n",
    "intercept = reg.intercept_\n",
    "print(\"Coef: \" + str(coef) + \", Intercept: \" + str(intercept))"
   ]
  },
  {
   "cell_type": "code",
   "execution_count": 7,
   "id": "35f1b7d6",
   "metadata": {},
   "outputs": [
    {
     "name": "stdout",
     "output_type": "stream",
     "text": [
      "Based on the linear regression, we can approximate that the bigger the feet size the less mistakes by looking at the negative coefficient of -1.5090330354713462.\n"
     ]
    }
   ],
   "source": [
    "print(\"Based on the linear regression, we can approximate that the bigger the feet size the less mistakes by looking at the negative coefficient of \" + str(coef[0]) + \".\")"
   ]
  },
  {
   "cell_type": "markdown",
   "id": "9f73c4d6",
   "metadata": {},
   "source": [
    "There exists a negative correlation between feet size and mistakes, because when feet size rises mistakes falls, and vice versa. The causal link here is that the bigger the foot size, the bigger the student hence the more knowledge they have. On the other hand, for the younger students with smaller feet size, they're not as knowledgeable as their older peers, hence they'll have more mistakes."
   ]
  }
 ],
 "metadata": {
  "kernelspec": {
   "display_name": "Python 3 (ipykernel)",
   "language": "python",
   "name": "python3"
  },
  "language_info": {
   "codemirror_mode": {
    "name": "ipython",
    "version": 3
   },
   "file_extension": ".py",
   "mimetype": "text/x-python",
   "name": "python",
   "nbconvert_exporter": "python",
   "pygments_lexer": "ipython3",
   "version": "3.9.15"
  }
 },
 "nbformat": 4,
 "nbformat_minor": 5
}
